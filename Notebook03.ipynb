{
 "cells": [
  {
   "cell_type": "markdown",
   "metadata": {},
   "source": [
    "# Activity 1: Guessing Game"
   ]
  },
  {
   "cell_type": "code",
   "execution_count": 1,
   "metadata": {
    "collapsed": false
   },
   "outputs": [
    {
     "name": "stdout",
     "output_type": "stream",
     "text": [
      "You will have three guesses.\n"
     ]
    },
    {
     "ename": "NameError",
     "evalue": "name 'guess' is not defined",
     "output_type": "error",
     "traceback": [
      "\u001b[0;31m---------------------------------------------------------------------------\u001b[0m",
      "\u001b[0;31mNameError\u001b[0m                                 Traceback (most recent call last)",
      "\u001b[0;32m<ipython-input-1-98ab120b787c>\u001b[0m in \u001b[0;36m<module>\u001b[0;34m()\u001b[0m\n\u001b[1;32m      5\u001b[0m \u001b[0;32mprint\u001b[0m \u001b[0;34m'You will have three guesses.'\u001b[0m\u001b[0;34m\u001b[0m\u001b[0m\n\u001b[1;32m      6\u001b[0m \u001b[0;34m\u001b[0m\u001b[0m\n\u001b[0;32m----> 7\u001b[0;31m \u001b[0;32mwhile\u001b[0m \u001b[0mguess\u001b[0m \u001b[0;34m!=\u001b[0m \u001b[0mtarget\u001b[0m\u001b[0;34m:\u001b[0m\u001b[0;34m\u001b[0m\u001b[0m\n\u001b[0m\u001b[1;32m      8\u001b[0m     \u001b[0mguess\u001b[0m \u001b[0;34m=\u001b[0m \u001b[0mint\u001b[0m\u001b[0;34m(\u001b[0m\u001b[0mraw_input\u001b[0m\u001b[0;34m(\u001b[0m\u001b[0;34m'What is your guess? '\u001b[0m\u001b[0;34m)\u001b[0m\u001b[0;34m)\u001b[0m\u001b[0;34m\u001b[0m\u001b[0m\n\u001b[1;32m      9\u001b[0m     \u001b[0mguess_num\u001b[0m \u001b[0;34m=\u001b[0m \u001b[0mguess_num\u001b[0m \u001b[0;34m+\u001b[0m \u001b[0;36m1\u001b[0m\u001b[0;34m\u001b[0m\u001b[0m\n",
      "\u001b[0;31mNameError\u001b[0m: name 'guess' is not defined"
     ]
    }
   ],
   "source": [
    "import random\n",
    "\n",
    "target    = random.randint(0,9)\n",
    "guess_num = 0\n",
    "print 'You will have three guesses.'\n",
    "\n",
    "while guess != target:\n",
    "    guess = int(raw_input('What is your guess? '))\n",
    "    guess_num = guess_num + 1\n",
    "    if guess == target:\n",
    "        print 'Yay, you found {}!' .format(target)\n",
    "        break\n",
    "    if guess_num == 3:\n",
    "        print 'Sorry, but the number was {}.' .format(target)\n",
    "        break\n",
    "    if guess > target:\n",
    "        print 'Lower!'\n",
    "    if guess < target:\n",
    "        print 'Higher!'"
   ]
  },
  {
   "cell_type": "markdown",
   "metadata": {},
   "source": [
    "## Questions\n",
    "\n",
    "1) Describe in your own words how the guessing game works. What information are you keeping track of? How do you know when the game is over?\n",
    "\n",
    "Basically what happens is the program generates a random number between 0 and 9, and then it asks the user to guess what the number is. After the user has guessed, it compared the generated number to what was guessed and then says to either guess lower or higher. After three guesses though, the program ends and tells what the number was. In order for this to work, we have to keep track of the generated number, the guessed numbers, and how many guesses. The game is over when the user either correctly guesses the number, or when the user has already used three guesses. This will generate one of the two ending messages to let the user know that the game is over.\n",
    "\n",
    "2) Did you use continue or break? If so, come up with a solution that does not use either of them. Which solution do you prefer and why?\n",
    "\n",
    "I used break, and below I have a solution that doesn't use a loop so it doesn't need to use continue or break. I prefer the solution that uses break the most because I think it is the most readable and logical. The one that doesn't use a loop is pretty awful to read and to create. And the one that just uses a loop is also good but doesn't seem quite as clear to me personally."
   ]
  },
  {
   "cell_type": "code",
   "execution_count": 4,
   "metadata": {
    "collapsed": false
   },
   "outputs": [
    {
     "name": "stdout",
     "output_type": "stream",
     "text": [
      "You will have three guesses.\n",
      "What is your guess? 1\n",
      "Higher!\n",
      "What is your guess? 1\n",
      "Higher!\n",
      "What is your guess? 1\n",
      "Sorry, but the number was 6.\n"
     ]
    }
   ],
   "source": [
    "import random\n",
    "\n",
    "target = random.randint(0,9)\n",
    "print 'You will have three guesses.'\n",
    "guess  = int(raw_input('What is your guess? '))\n",
    "\n",
    "if guess == target:\n",
    "    print 'Hooray! You found {}!' .format(target)\n",
    "else: \n",
    "    if guess < target:\n",
    "        print 'Higher!' \n",
    "        guess = int(raw_input('What is your guess? '))\n",
    "        if guess == target:\n",
    "            print 'Hooray! You found {}!' .format(target)\n",
    "        else: \n",
    "            if guess < target:\n",
    "                print 'Higher!' \n",
    "                guess = int(raw_input('What is your guess? '))\n",
    "                if guess == target:\n",
    "                    print 'Hooray! You found {}!' .format(target)\n",
    "                else:\n",
    "                    print 'Sorry, but the number was {}.' .format(target)\n",
    "            elif guess > target:\n",
    "                print 'Lower!' \n",
    "                guess = int(raw_input('What is your guess? '))\n",
    "                if guess == target:\n",
    "                    print 'Hooray! You found {}!' .format(target)\n",
    "                else:\n",
    "                    print 'Sorry, but the number was {}.' .format(target)\n",
    "    elif guess > target:\n",
    "        print 'Lower!' \n",
    "        guess = int(raw_input('What is your guess? '))\n",
    "        if guess == target:\n",
    "            print 'Hooray! You found {}!' .format(target)\n",
    "        else: \n",
    "            if guess < target:\n",
    "                print 'Higher!' \n",
    "                guess = int(raw_input('What is your guess? '))\n",
    "                if guess == target:\n",
    "                    print 'Hooray! You found {}!' .format(target)\n",
    "                else:\n",
    "                    print 'Sorry, but the number was {}.' .format(target)\n",
    "            elif guess > target:\n",
    "                print 'Lower!' \n",
    "                guess = int(raw_input('What is your guess? '))\n",
    "                if guess == target:\n",
    "                    print 'Hooray! You found {}!' .format(target)\n",
    "                else:\n",
    "                    print 'Sorry, but the number was {}.' .format(target)"
   ]
  },
  {
   "cell_type": "code",
   "execution_count": 2,
   "metadata": {
    "collapsed": false
   },
   "outputs": [
    {
     "name": "stdout",
     "output_type": "stream",
     "text": [
      "You will have three guesses\n",
      "What is your guess? 5\n",
      "Higher!\n",
      "What is your guess? 7\n",
      "Higher!\n",
      "What is your guess? 8\n",
      "Sorry, but the number was 9.\n"
     ]
    }
   ],
   "source": [
    "import random\n",
    "\n",
    "target    = random.randint(0,9)\n",
    "guess_num = 1\n",
    "print 'You will have three guesses.'\n",
    "\n",
    "guess = int(raw_input('What is your guess? '))\n",
    "while guess != target and guess_num < 3:\n",
    "    if guess > target:\n",
    "        print 'Lower!'\n",
    "    if guess < target:\n",
    "        print 'Higher!'\n",
    "    guess = int(raw_input('What is your guess? '))\n",
    "    guess_num += 1\n",
    "        \n",
    "if guess == target:\n",
    "    print 'Yay, you found {}!' .format(target)\n",
    "elif guess_num == 3:\n",
    "    print 'Sorry, but the number was {}.' .format(target)"
   ]
  },
  {
   "cell_type": "markdown",
   "metadata": {
    "collapsed": true
   },
   "source": [
    "# Activity 2: Estimating Pi via Monte Carlo"
   ]
  },
  {
   "cell_type": "code",
   "execution_count": 6,
   "metadata": {
    "collapsed": false
   },
   "outputs": [
    {
     "name": "stdout",
     "output_type": "stream",
     "text": [
      "How many darts would you like to throw to estimate pi? 1000\n",
      "Pi estimated via simulation is 3.09600\n"
     ]
    }
   ],
   "source": [
    "import random\n",
    "import math\n",
    "\n",
    "circle_count = 0\n",
    "square_count = 0\n",
    "dart_throws  = int(raw_input('How many darts would you like to throw to estimate pi? '))\n",
    "\n",
    "while square_count < dart_throws:\n",
    "    x = random.random()\n",
    "    y = random.random()\n",
    "    if math.hypot(x, y) < 1:\n",
    "        circle_count += 1\n",
    "    square_count += 1\n",
    "\n",
    "pi = 4.0 * circle_count / square_count\n",
    "print 'Pi estimated via simulation is {:.5f}' .format(pi)\n"
   ]
  },
  {
   "cell_type": "markdown",
   "metadata": {},
   "source": [
    "### Questions\n",
    "\n",
    "1) Describe in your own words how the simulation works. What are the steps you are computing? What are you keeping track of in each iteration?\n",
    "\n",
    "This simulation works by keeping track of the darts that are randomly generated with coordinates in the range [0, 1] and computes the hypotenuse with respect to the origin and the x-axis. Then the program checks if the hypotenuse is less than 1 and if it is then it adds 1 to the count of the darts in the circle. It also always adds 1 to the count of the darts in the square because the circle is inside the square so the dart is always in the square. It repeats this for each iteration until the number of darts that I want to be thrown have been. Then it uses a pi estimation formula to calculate pi. \n",
    "\n",
    "2) How does the number of darts affect the accuracy of the estimate? Provide evidence for your answer.\n",
    "\n",
    "The more darts, the more accurate the estimate will be. For example, if only one dart is used, if it is inside the circle then the value of pi estimated will be 4 but if it is not inside, then the value of pi will be zero. Neither of those two answers are particularly accuracte, but as you get higher, it become more accurate. For example, using 300 darts, I found the value of pi to be 3.1467. "
   ]
  },
  {
   "cell_type": "markdown",
   "metadata": {},
   "source": [
    "# Activity 3: Calculating Mortagage Payments"
   ]
  },
  {
   "cell_type": "code",
   "execution_count": 32,
   "metadata": {
    "collapsed": false
   },
   "outputs": [
    {
     "name": "stdout",
     "output_type": "stream",
     "text": [
      "What is the starting balance/the loan amount? 250\n",
      "What is the yearly interest rate (in decimal format)? .03\n",
      "What is the monthly payment amount? 25\n",
      "Month      Payment    Interest     Balance    \n",
      "1          $25.00      $0.62       $225.62    \n",
      "2          $25.00      $0.56       $201.19    \n",
      "3          $25.00      $0.50       $176.69    \n",
      "4          $25.00      $0.44       $152.13    \n",
      "5          $25.00      $0.38       $127.51    \n",
      "6          $25.00      $0.32       $102.83    \n",
      "7          $25.00      $0.26       $78.09     \n",
      "8          $25.00      $0.20       $53.29     \n",
      "9          $25.00      $0.13       $28.42     \n",
      "10         $25.00      $0.07       $3.49      \n",
      "11         $3.50       $0.01       $0.00      \n",
      "You paid $253.50 over the course of 0 years and 11 months.\n"
     ]
    }
   ],
   "source": [
    "balance       = float(raw_input('What is the starting balance/the loan amount? '))\n",
    "interest_rate = float(raw_input('What is the yearly interest rate (in decimal format)? '))\n",
    "payment       = float(raw_input('What is the monthly payment amount? '))\n",
    "total = 0.0\n",
    "month = 0\n",
    "\n",
    "print '{:11}{:11}{:13}{:11}' .format('Month', 'Payment', 'Interest', 'Balance')\n",
    "\n",
    "while balance > 0:\n",
    "    interest = (balance * interest_rate) / 12 \n",
    "    balance = interest + balance\n",
    "    if balance < payment:\n",
    "        payment = balance\n",
    "    balance = balance - payment\n",
    "    month += 1\n",
    "    print '{:<10} ${:<10.2f} ${:<10.2f} ${:<10.2f}' .format(month, payment, interest, balance)\n",
    "    total += payment\n",
    "\n",
    "years  = month / 12\n",
    "months = month % 12\n",
    "print 'You paid ${:.2f} over the course of {} years and {} months.' .format(total, years, months)"
   ]
  },
  {
   "cell_type": "markdown",
   "metadata": {},
   "source": [
    "### Questions\n",
    "\n",
    "1) Describe in your own words how the mortgage calculator works. What are the steps you are computing? What are you keeping track of in each iteration?\n",
    "\n",
    "First the program asks for the starting balance/loan amount, the interest rate, and the monthly payment. Then it uses a loop to repeat the next steps until the balance is zero. The program calculates the interest amount (using the yearly interest rate and then making a monthly amount) and adds that to the balance. Then it subtracts the payment from the balance. If the payment is more than the remaining balance though, it makes the payment just enough to make the balance go down to zero. It also is printing all of this out.\n",
    "\n",
    "\n",
    "2) If you had a mortgage with a principal of 250,000, an interest rate of 4%, and a monthly payment of 1000, how long will it take for you to pay it off? How much will you have paid in total?\n",
    "\n",
    "It will take 44 years and 11 months to pay off the mortgage, and you will have paid a total of $538423.63."
   ]
  }
 ],
 "metadata": {
  "anaconda-cloud": {},
  "kernelspec": {
   "display_name": "Python [Root]",
   "language": "python",
   "name": "Python [Root]"
  },
  "language_info": {
   "codemirror_mode": {
    "name": "ipython",
    "version": 2
   },
   "file_extension": ".py",
   "mimetype": "text/x-python",
   "name": "python",
   "nbconvert_exporter": "python",
   "pygments_lexer": "ipython2",
   "version": "2.7.12"
  }
 },
 "nbformat": 4,
 "nbformat_minor": 0
}
