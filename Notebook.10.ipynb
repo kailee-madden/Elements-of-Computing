{
 "cells": [
  {
   "cell_type": "code",
   "execution_count": 6,
   "metadata": {
    "collapsed": true
   },
   "outputs": [],
   "source": [
    "# Keys and Access Tokens\n",
    "\n",
    "CONSUMER_KEY    = 'z0bYEPlXWoQ4NN6lCv1tKUlI5'\n",
    "CONSUMER_SECRET = 'TWOPI8msdDEuVrLqMWxhhZQqCKaQu0QENAyHDeq5AdRCWX1LK2'\n",
    "\n",
    "ACCESS_TOKEN    = '798603609621590016-e1Uhn2NBsdns5HJaCS2UHVjNkTDYqBG'\n",
    "ACCESS_SECRET   = 'Gyu8mcWFVykL06gGFjdWqBjJgljljmQz44UGakldpKk8M'"
   ]
  },
  {
   "cell_type": "code",
   "execution_count": 7,
   "metadata": {
    "collapsed": false
   },
   "outputs": [],
   "source": [
    "# Imports\n",
    "\n",
    "import tweepy\n",
    "\n",
    "# Authentication\n",
    "\n",
    "AUTH = tweepy.OAuthHandler(CONSUMER_KEY, CONSUMER_SECRET)\n",
    "AUTH.set_access_token(ACCESS_TOKEN, ACCESS_SECRET)\n",
    "API = tweepy.API(AUTH)"
   ]
  },
  {
   "cell_type": "code",
   "execution_count": 8,
   "metadata": {
    "collapsed": true
   },
   "outputs": [],
   "source": [
    "import time\n",
    "def run_bot(bot, timeout=60.0):\n",
    "    ''' Wrapper function that periodically calls run_bot_once '''\n",
    "    while True:\n",
    "        print 'Waiting {} seconds...'.format(timeout)\n",
    "        time.sleep(timeout)\n",
    "        print 'Running bot...'\n",
    "        bot()"
   ]
  },
  {
   "cell_type": "markdown",
   "metadata": {},
   "source": [
    "# Option A: Quote Bot"
   ]
  },
  {
   "cell_type": "code",
   "execution_count": 37,
   "metadata": {
    "collapsed": false
   },
   "outputs": [
    {
     "name": "stdout",
     "output_type": "stream",
     "text": [
      "Overwriting favorite_quotes\n"
     ]
    }
   ],
   "source": [
    "%%file favorite_quotes\n",
    "{\n",
    "    \"Dr. Seuss\" : \"Sometimes the questions are complicated and the answers are simple.\",\n",
    "    \"C.S. Lewis\" : \"Courage is not simply one of the virtues, but the form of every virtue at the testing point.\",\n",
    "    \"J.R.R. Tolkien\" : \"All we have to decide is what to do with the time given to us.\",\n",
    "    \"Anre Venter\" : \"God does not call us to be perfect, but whole.\",\n",
    "    \"A.A. Milne\" : \"You are braver than you believe, stronger than you seem, and smarter than you think.\"\n",
    "    \n",
    "}\n",
    "\n"
   ]
  },
  {
   "cell_type": "code",
   "execution_count": 5,
   "metadata": {
    "collapsed": true
   },
   "outputs": [],
   "source": [
    "import random\n",
    "import json\n",
    "JSON_PATH = 'favorite_quotes'\n",
    "\n",
    "def quote_bot():\n",
    "    keys = []\n",
    "    data = json.load(open(JSON_PATH))\n",
    "    authors = data.keys()\n",
    "    author = random.choice(authors)\n",
    "    \n",
    "    try:\n",
    "        API.update_status(\"{} says '{}'\" .format(author, data[author]))\n",
    "    except tweepy.TweepError as e:\n",
    "        print 'Uh oh: {}'.format(e)\n"
   ]
  },
  {
   "cell_type": "code",
   "execution_count": 8,
   "metadata": {
    "collapsed": false
   },
   "outputs": [
    {
     "name": "stdout",
     "output_type": "stream",
     "text": [
      "Waiting 60.0 seconds...\n",
      "Running bot...\n",
      "Waiting 60.0 seconds...\n",
      "Running bot...\n",
      "Waiting 60.0 seconds...\n",
      "Running bot...\n",
      "Uh oh: [{u'message': u'Status is a duplicate.', u'code': 187}]\n",
      "Waiting 60.0 seconds...\n",
      "Running bot...\n",
      "Waiting 60.0 seconds...\n",
      "Running bot...\n",
      "Waiting 60.0 seconds...\n",
      "Running bot...\n",
      "Uh oh: [{u'message': u'Status is a duplicate.', u'code': 187}]\n",
      "Waiting 60.0 seconds...\n"
     ]
    },
    {
     "ename": "KeyboardInterrupt",
     "evalue": "",
     "output_type": "error",
     "traceback": [
      "\u001b[0;31m---------------------------------------------------------------------------\u001b[0m",
      "\u001b[0;31mKeyboardInterrupt\u001b[0m                         Traceback (most recent call last)",
      "\u001b[0;32m<ipython-input-8-a8d3fad02d44>\u001b[0m in \u001b[0;36m<module>\u001b[0;34m()\u001b[0m\n\u001b[0;32m----> 1\u001b[0;31m \u001b[0mrun_bot\u001b[0m\u001b[0;34m(\u001b[0m\u001b[0mquote_bot\u001b[0m\u001b[0;34m)\u001b[0m\u001b[0;34m\u001b[0m\u001b[0m\n\u001b[0m",
      "\u001b[0;32m<ipython-input-7-ae6788101681>\u001b[0m in \u001b[0;36mrun_bot\u001b[0;34m(bot, timeout)\u001b[0m\n\u001b[1;32m      4\u001b[0m     \u001b[0;32mwhile\u001b[0m \u001b[0mTrue\u001b[0m\u001b[0;34m:\u001b[0m\u001b[0;34m\u001b[0m\u001b[0m\n\u001b[1;32m      5\u001b[0m         \u001b[0;32mprint\u001b[0m \u001b[0;34m'Waiting {} seconds...'\u001b[0m\u001b[0;34m.\u001b[0m\u001b[0mformat\u001b[0m\u001b[0;34m(\u001b[0m\u001b[0mtimeout\u001b[0m\u001b[0;34m)\u001b[0m\u001b[0;34m\u001b[0m\u001b[0m\n\u001b[0;32m----> 6\u001b[0;31m         \u001b[0mtime\u001b[0m\u001b[0;34m.\u001b[0m\u001b[0msleep\u001b[0m\u001b[0;34m(\u001b[0m\u001b[0mtimeout\u001b[0m\u001b[0;34m)\u001b[0m\u001b[0;34m\u001b[0m\u001b[0m\n\u001b[0m\u001b[1;32m      7\u001b[0m         \u001b[0;32mprint\u001b[0m \u001b[0;34m'Running bot...'\u001b[0m\u001b[0;34m\u001b[0m\u001b[0m\n\u001b[1;32m      8\u001b[0m         \u001b[0mbot\u001b[0m\u001b[0;34m(\u001b[0m\u001b[0;34m)\u001b[0m\u001b[0;34m\u001b[0m\u001b[0m\n",
      "\u001b[0;31mKeyboardInterrupt\u001b[0m: "
     ]
    }
   ],
   "source": [
    "run_bot(quote_bot)"
   ]
  },
  {
   "cell_type": "markdown",
   "metadata": {},
   "source": [
    "# Option C: Troll Bot"
   ]
  },
  {
   "cell_type": "code",
   "execution_count": 1,
   "metadata": {
    "collapsed": false
   },
   "outputs": [
    {
     "name": "stdout",
     "output_type": "stream",
     "text": [
      "Overwriting responses\n"
     ]
    }
   ],
   "source": [
    "%%file responses\n",
    "[\n",
    "    \"awesomesauce\",\n",
    "    \"coolbeans\",\n",
    "    \"whatcha thinking??\",\n",
    "    \"that's insanity!\",\n",
    "    \"hold up now!\",\n",
    "    \"love this!\",\n",
    "    \"can't believe you'd post this!\"\n",
    "]"
   ]
  },
  {
   "cell_type": "code",
   "execution_count": 62,
   "metadata": {
    "collapsed": false
   },
   "outputs": [],
   "source": [
    "import json\n",
    "import random\n",
    "import time\n",
    "JSON_PATH = 'responses'\n",
    "N = 0\n",
    "\n",
    "def troll_bot(user_id, timeout=60.0):\n",
    "    data = json.load(open(JSON_PATH))\n",
    "    phrase = random.choice(data)\n",
    "    global N\n",
    "    \n",
    "    for status in API.user_timeline(user_id, count=1):\n",
    "        \n",
    "        N = status.id \n",
    "    \n",
    "    while True:\n",
    "        print 'Waiting {} seconds...'.format(timeout)\n",
    "        time.sleep(timeout)\n",
    "        print 'Running bot...'\n",
    "        for status in API.user_timeline(user_id, since_id=N):\n",
    "            try: \n",
    "                API.update_status('{} {}' .format(user_id, phrase))\n",
    "                N = status.id\n",
    "            except tweepy.TweepError as e:\n",
    "                print 'Uh oh: {}'.format(e)\n"
   ]
  },
  {
   "cell_type": "code",
   "execution_count": 61,
   "metadata": {
    "collapsed": false
   },
   "outputs": [
    {
     "name": "stdout",
     "output_type": "stream",
     "text": [
      "remix\n",
      "799024672016912384\n",
      "Waiting 10 seconds...\n",
      "Running bot...\n",
      "Waiting 10 seconds...\n",
      "Running bot...\n",
      "Waiting 10 seconds...\n",
      "Running bot...\n",
      "dslkajf\n",
      "799025939229319169\n",
      "Waiting 10 seconds...\n",
      "Running bot...\n",
      "Waiting 10 seconds...\n",
      "Running bot...\n",
      "Uh oh: [{u'message': u'Status is a duplicate.', u'code': 187}]\n",
      "Waiting 10 seconds...\n",
      "Running bot...\n",
      "Uh oh: [{u'message': u'Status is a duplicate.', u'code': 187}]\n",
      "Uh oh: [{u'message': u'Status is a duplicate.', u'code': 187}]\n",
      "Waiting 10 seconds...\n",
      "Running bot...\n",
      "Uh oh: [{u'message': u'Status is a duplicate.', u'code': 187}]\n",
      "Uh oh: [{u'message': u'Status is a duplicate.', u'code': 187}]\n",
      "Waiting 10 seconds...\n",
      "Running bot...\n",
      "Uh oh: [{u'message': u'Status is a duplicate.', u'code': 187}]\n",
      "Uh oh: [{u'message': u'Status is a duplicate.', u'code': 187}]\n",
      "Waiting 10 seconds...\n"
     ]
    },
    {
     "ename": "KeyboardInterrupt",
     "evalue": "",
     "output_type": "error",
     "traceback": [
      "\u001b[0;31m---------------------------------------------------------------------------\u001b[0m",
      "\u001b[0;31mKeyboardInterrupt\u001b[0m                         Traceback (most recent call last)",
      "\u001b[0;32m<ipython-input-61-002cea428d47>\u001b[0m in \u001b[0;36m<module>\u001b[0;34m()\u001b[0m\n\u001b[0;32m----> 1\u001b[0;31m \u001b[0mtroll_bot\u001b[0m\u001b[0;34m(\u001b[0m\u001b[0;36m10\u001b[0m\u001b[0;34m)\u001b[0m\u001b[0;34m\u001b[0m\u001b[0m\n\u001b[0m",
      "\u001b[0;32m<ipython-input-60-1818e807f69b>\u001b[0m in \u001b[0;36mtroll_bot\u001b[0;34m(timeout)\u001b[0m\n\u001b[1;32m     17\u001b[0m     \u001b[0;32mwhile\u001b[0m \u001b[0mTrue\u001b[0m\u001b[0;34m:\u001b[0m\u001b[0;34m\u001b[0m\u001b[0m\n\u001b[1;32m     18\u001b[0m         \u001b[0;32mprint\u001b[0m \u001b[0;34m'Waiting {} seconds...'\u001b[0m\u001b[0;34m.\u001b[0m\u001b[0mformat\u001b[0m\u001b[0;34m(\u001b[0m\u001b[0mtimeout\u001b[0m\u001b[0;34m)\u001b[0m\u001b[0;34m\u001b[0m\u001b[0m\n\u001b[0;32m---> 19\u001b[0;31m         \u001b[0mtime\u001b[0m\u001b[0;34m.\u001b[0m\u001b[0msleep\u001b[0m\u001b[0;34m(\u001b[0m\u001b[0mtimeout\u001b[0m\u001b[0;34m)\u001b[0m\u001b[0;34m\u001b[0m\u001b[0m\n\u001b[0m\u001b[1;32m     20\u001b[0m         \u001b[0;32mprint\u001b[0m \u001b[0;34m'Running bot...'\u001b[0m\u001b[0;34m\u001b[0m\u001b[0m\n\u001b[1;32m     21\u001b[0m         \u001b[0;32mfor\u001b[0m \u001b[0mstatus\u001b[0m \u001b[0;32min\u001b[0m \u001b[0mAPI\u001b[0m\u001b[0;34m.\u001b[0m\u001b[0muser_timeline\u001b[0m\u001b[0;34m(\u001b[0m\u001b[0;34m'@goirishbot'\u001b[0m\u001b[0;34m,\u001b[0m \u001b[0msince_id\u001b[0m\u001b[0;34m=\u001b[0m\u001b[0mN\u001b[0m\u001b[0;34m)\u001b[0m\u001b[0;34m:\u001b[0m\u001b[0;34m\u001b[0m\u001b[0m\n",
      "\u001b[0;31mKeyboardInterrupt\u001b[0m: "
     ]
    }
   ],
   "source": [
    "troll_bot('@dailymemebot', 300)"
   ]
  },
  {
   "cell_type": "markdown",
   "metadata": {},
   "source": [
    "# Option B: Fanboy Bot"
   ]
  },
  {
   "cell_type": "code",
   "execution_count": 10,
   "metadata": {
    "collapsed": false
   },
   "outputs": [],
   "source": [
    "import time\n",
    "N = 0\n",
    "\n",
    "def fanboy_bot(user_id, timeout=60.0):\n",
    "    global N\n",
    "    \n",
    "    for status in API.user_timeline(user_id, count=1):\n",
    "        \n",
    "        N = status.id \n",
    "    \n",
    "    while True:\n",
    "        print 'Waiting {} seconds...'.format(timeout)\n",
    "        time.sleep(timeout)\n",
    "        print 'Running bot...'\n",
    "        for status in API.user_timeline(user_id, since_id=N):\n",
    "            try: \n",
    "                API.create_favorite(status.id)\n",
    "                API.retweet(status.id)\n",
    "                N = status.id\n",
    "            except tweepy.TweepError as e:\n",
    "                print 'Uh oh: {}'.format(e)\n"
   ]
  },
  {
   "cell_type": "code",
   "execution_count": 11,
   "metadata": {
    "collapsed": false
   },
   "outputs": [
    {
     "name": "stdout",
     "output_type": "stream",
     "text": [
      "Waiting 300 seconds...\n",
      "Running bot...\n",
      "Waiting 300 seconds...\n",
      "Running bot...\n",
      "Waiting 300 seconds...\n",
      "Running bot...\n",
      "Waiting 300 seconds...\n",
      "Running bot...\n",
      "Waiting 300 seconds...\n"
     ]
    },
    {
     "ename": "KeyboardInterrupt",
     "evalue": "",
     "output_type": "error",
     "traceback": [
      "\u001b[0;31m---------------------------------------------------------------------------\u001b[0m",
      "\u001b[0;31mKeyboardInterrupt\u001b[0m                         Traceback (most recent call last)",
      "\u001b[0;32m<ipython-input-11-e9e08a65b491>\u001b[0m in \u001b[0;36m<module>\u001b[0;34m()\u001b[0m\n\u001b[0;32m----> 1\u001b[0;31m \u001b[0mfanboy_bot\u001b[0m\u001b[0;34m(\u001b[0m\u001b[0;34m'@dailymemebot'\u001b[0m\u001b[0;34m,\u001b[0m \u001b[0;36m300\u001b[0m\u001b[0;34m)\u001b[0m\u001b[0;34m\u001b[0m\u001b[0m\n\u001b[0m",
      "\u001b[0;32m<ipython-input-10-211477cc83df>\u001b[0m in \u001b[0;36mfanboy_bot\u001b[0;34m(user_id, timeout)\u001b[0m\n\u001b[1;32m     11\u001b[0m     \u001b[0;32mwhile\u001b[0m \u001b[0mTrue\u001b[0m\u001b[0;34m:\u001b[0m\u001b[0;34m\u001b[0m\u001b[0m\n\u001b[1;32m     12\u001b[0m         \u001b[0;32mprint\u001b[0m \u001b[0;34m'Waiting {} seconds...'\u001b[0m\u001b[0;34m.\u001b[0m\u001b[0mformat\u001b[0m\u001b[0;34m(\u001b[0m\u001b[0mtimeout\u001b[0m\u001b[0;34m)\u001b[0m\u001b[0;34m\u001b[0m\u001b[0m\n\u001b[0;32m---> 13\u001b[0;31m         \u001b[0mtime\u001b[0m\u001b[0;34m.\u001b[0m\u001b[0msleep\u001b[0m\u001b[0;34m(\u001b[0m\u001b[0mtimeout\u001b[0m\u001b[0;34m)\u001b[0m\u001b[0;34m\u001b[0m\u001b[0m\n\u001b[0m\u001b[1;32m     14\u001b[0m         \u001b[0;32mprint\u001b[0m \u001b[0;34m'Running bot...'\u001b[0m\u001b[0;34m\u001b[0m\u001b[0m\n\u001b[1;32m     15\u001b[0m         \u001b[0;32mfor\u001b[0m \u001b[0mstatus\u001b[0m \u001b[0;32min\u001b[0m \u001b[0mAPI\u001b[0m\u001b[0;34m.\u001b[0m\u001b[0muser_timeline\u001b[0m\u001b[0;34m(\u001b[0m\u001b[0muser_id\u001b[0m\u001b[0;34m,\u001b[0m \u001b[0msince_id\u001b[0m\u001b[0;34m=\u001b[0m\u001b[0mN\u001b[0m\u001b[0;34m)\u001b[0m\u001b[0;34m:\u001b[0m\u001b[0;34m\u001b[0m\u001b[0m\n",
      "\u001b[0;31mKeyboardInterrupt\u001b[0m: "
     ]
    }
   ],
   "source": [
    "fanboy_bot('@dailymemebot', 300)"
   ]
  },
  {
   "cell_type": "markdown",
   "metadata": {},
   "source": [
    "# Option G: Image Bot"
   ]
  },
  {
   "cell_type": "code",
   "execution_count": 63,
   "metadata": {
    "collapsed": true
   },
   "outputs": [],
   "source": [
    "from matplotlib.pyplot import imread, imshow, imsave, figure\n",
    "import numpy\n",
    "import requests\n",
    "import StringIO\n",
    "\n",
    "def blend_images(image0, image1, weight):\n",
    "    if len(image0) > len(image1):\n",
    "        height = len(image1)\n",
    "    else:\n",
    "        height = len(image0)\n",
    "    if len(image0[0]) > len(image1[0]):\n",
    "        width  = len(image1[0])\n",
    "    else:\n",
    "        width = len(image0[0])\n",
    "    image = []\n",
    "    \n",
    "    for row in range(height):\n",
    "        image_row = []\n",
    "        for column in range(width):\n",
    "            color0  = image0[row][column]\n",
    "            color1  = image1[row][column]\n",
    "            pcolor0 = [num * (1 - weight) for num in color0]\n",
    "            pcolor1 = [num * (weight) for num in color1]\n",
    "            new_color = [a + b for a,b in zip(pcolor0,pcolor1)]\n",
    "            image_row.append(new_color)\n",
    "        image.append(image_row)\n",
    "    return image\n",
    "\n",
    "def save_image(path, image):\n",
    "    ''' Save image to specified path '''\n",
    "    print 'Writing to {}'.format(path)\n",
    "    imsave(path, numpy.asarray(image).astype('uint8'))\n",
    "    \n",
    "def read_image(path, format='JPG'):\n",
    "    ''' Read image from path or URL '''\n",
    "    if path.startswith('http'):\n",
    "        data  = StringIO.StringIO(requests.get(path).content)\n",
    "        image = imread(data, format=format)\n",
    "    else:\n",
    "        image = imread(path)\n",
    "    return image"
   ]
  },
  {
   "cell_type": "code",
   "execution_count": 71,
   "metadata": {
    "collapsed": true
   },
   "outputs": [],
   "source": [
    "import random\n",
    "\n",
    "def image_bot(user_id1, user_id2):\n",
    "    \n",
    "    for image1 in API.user_timeline(user_id1, count=1):\n",
    "        image1 = read_image(image1._json['entities']['media'][0]['media_url'])\n",
    "        for image2 in API.user_timeline(user_id2, count=1):\n",
    "            image2 = read_image(image2._json['entities']['media'][0]['media_url'])\n",
    "            weight = float('{:.2f}'.format(random.random()))\n",
    "            new_image = blend_images(image1, image2, weight)\n",
    "            save_image('newimage.jpg', new_image)\n",
    "            API.update_with_media('newimage.jpg')"
   ]
  },
  {
   "cell_type": "code",
   "execution_count": 70,
   "metadata": {
    "collapsed": false
   },
   "outputs": [
    {
     "name": "stdout",
     "output_type": "stream",
     "text": [
      "Writing to newimage.jpg\n"
     ]
    }
   ],
   "source": [
    "image_bot('@gwitortcdt', '@ndcodonohue')"
   ]
  },
  {
   "cell_type": "code",
   "execution_count": null,
   "metadata": {
    "collapsed": true
   },
   "outputs": [],
   "source": []
  }
 ],
 "metadata": {
  "anaconda-cloud": {},
  "kernelspec": {
   "display_name": "Python [Root]",
   "language": "python",
   "name": "Python [Root]"
  },
  "language_info": {
   "codemirror_mode": {
    "name": "ipython",
    "version": 2
   },
   "file_extension": ".py",
   "mimetype": "text/x-python",
   "name": "python",
   "nbconvert_exporter": "python",
   "pygments_lexer": "ipython2",
   "version": "2.7.12"
  }
 },
 "nbformat": 4,
 "nbformat_minor": 0
}
