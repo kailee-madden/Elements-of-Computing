{
 "cells": [
  {
   "cell_type": "markdown",
   "metadata": {},
   "source": [
    "# Activity 1"
   ]
  },
  {
   "cell_type": "code",
   "execution_count": 54,
   "metadata": {
    "collapsed": false
   },
   "outputs": [],
   "source": [
    "import string\n",
    "\n",
    "def count_words(text):\n",
    "    counts = {}\n",
    "    for word in text.split():\n",
    "        word = word.translate(None, string.punctuation)    \n",
    "        word = word.lower()                                \n",
    "        if word not in counts:\n",
    "            counts[word] = 1\n",
    "        else:\n",
    "            counts[word] += 1\n",
    "    return counts\n",
    "    \n",
    "def display_frequencies(text):\n",
    "    d = count_words(text)\n",
    "    for key in sorted(d, key=d.get, reverse=True):\n",
    "        print d[key], key"
   ]
  },
  {
   "cell_type": "code",
   "execution_count": 101,
   "metadata": {
    "collapsed": false
   },
   "outputs": [
    {
     "name": "stdout",
     "output_type": "stream",
     "text": [
      "7 shake\n",
      "5 play\n",
      "5 hate\n",
      "3 gonna\n",
      "2 off\n",
      "2 i\n",
      "2 it\n",
      "2 the\n",
      "1 and\n",
      "1 just\n",
      "1 players\n",
      "1 im\n",
      "1 baby\n",
      "1 haters\n",
      "1 cause\n"
     ]
    }
   ],
   "source": [
    "lyrics = '''\n",
    "'Cause the players gonna play, play, play, play, play\n",
    "And the haters gonna hate, hate, hate, hate, hate\n",
    "Baby, I'm just gonna shake, shake, shake, shake, shake\n",
    "I shake it off, I shake it off\n",
    "'''\n",
    "display_frequencies(lyrics)"
   ]
  },
  {
   "cell_type": "markdown",
   "metadata": {
    "collapsed": true
   },
   "source": [
    "### Questions\n",
    "\n",
    "1) Briefy describe how your functions work and what challenges you faced implementing them.\n",
    "\n",
    "My count_words function splits up the sentence into individual words and then removes any punctuation or capitalization. Then it counts up the number of each word by checking if the word is already in the dictionary counts then adding another 1 to the count, and if it is not in it, adding it and adding a count of 1 to it. The function display_frequencies uses the function count_words, but sorts it according to the number (which is the value) and then alphabetizes it according the key. It then prints out the value(the count) and the key(the word).\n",
    "\n",
    "2) Demonstrate your display_frequencies function by writing a loop that checks each of the following strings:"
   ]
  },
  {
   "cell_type": "code",
   "execution_count": 56,
   "metadata": {
    "collapsed": true
   },
   "outputs": [],
   "source": [
    "strings = [\n",
    "    'Well, buzz buzz buzz goes the bumble bee',\n",
    "    'You are my sunshine, my only sunshine',\n",
    "    'Cheer, cheer for old Notre Dame',\n",
    "    'Wait, they don\\'t love you like I love you',\n",
    "]"
   ]
  },
  {
   "cell_type": "code",
   "execution_count": 61,
   "metadata": {
    "collapsed": false
   },
   "outputs": [
    {
     "name": "stdout",
     "output_type": "stream",
     "text": [
      "3 buzz\n",
      "1 bumble\n",
      "1 well\n",
      "1 bee\n",
      "1 goes\n",
      "1 the\n",
      "\n",
      "\n",
      "2 sunshine\n",
      "2 my\n",
      "1 you\n",
      "1 are\n",
      "1 only\n",
      "\n",
      "\n",
      "2 cheer\n",
      "1 notre\n",
      "1 old\n",
      "1 for\n",
      "1 dame\n",
      "\n",
      "\n",
      "2 love\n",
      "2 you\n",
      "1 like\n",
      "1 i\n",
      "1 they\n",
      "1 wait\n",
      "1 dont\n",
      "\n",
      "\n"
     ]
    }
   ],
   "source": [
    "for sentence in strings:\n",
    "    display_frequencies(sentence)\n",
    "    print '\\n'"
   ]
  },
  {
   "cell_type": "markdown",
   "metadata": {},
   "source": [
    "# Activity 2"
   ]
  },
  {
   "cell_type": "code",
   "execution_count": 86,
   "metadata": {
    "collapsed": false
   },
   "outputs": [
    {
     "data": {
      "text/html": [
       "<i class=\"fa fa-history\"></i> while drinking my <i class=\"fa fa-coffee\"></i> <i class=\"fa fa-eye\"></i> realized the <i class=\"fa fa-female\"></i> <i class=\"fa fa-heart\"></i> <i class=\"fa fa-male\"></i>"
      ],
      "text/plain": [
       "<IPython.core.display.HTML object>"
      ]
     },
     "metadata": {},
     "output_type": "display_data"
    }
   ],
   "source": [
    "from IPython.html.widgets.interaction import interact\n",
    "from IPython.display import HTML, display\n",
    "\n",
    "WORD_TO_ICON = {\n",
    "    '<3'          : 'heart',\n",
    "    'rocket'      : 'rocket',\n",
    "    '**'          : 'star',\n",
    "    '*'           : 'asterisk',\n",
    "    '^'           : 'chevron-up',\n",
    "    'cake'        : 'birthday-cake',\n",
    "    'coffee'      : 'coffee',\n",
    "    'i'           : 'eye',\n",
    "    'girl'        : 'female',\n",
    "    'boy'         : 'male',\n",
    "    'yesterday'   : 'history',\n",
    "    '$'           : 'dollar',\n",
    "    '!'           : 'exclamation',\n",
    "    'bomb'        : 'bomb',\n",
    "    'trash'       : 'trash-o'\n",
    "    \n",
    "}\n",
    "\n",
    "\n",
    "def format_icon(icon):\n",
    "    return '<i class=\"fa fa-{}\"></i>' .format(icon)\n",
    "\n",
    "\n",
    "def translate_icons(text):\n",
    "    html = []\n",
    "    for icon in text.split():\n",
    "        if icon in WORD_TO_ICON:\n",
    "            word = WORD_TO_ICON[icon]\n",
    "            html.append(format_icon(word))\n",
    "        else:\n",
    "            html.append(icon)\n",
    "            \n",
    "    return ' '.join(html)\n",
    "\n",
    "\n",
    "def translate(text):\n",
    "    new_html = translate_icons(text)\n",
    "    display(HTML(new_html))\n",
    "\n",
    "\n",
    "interact(translate, text='')\n"
   ]
  },
  {
   "cell_type": "markdown",
   "metadata": {},
   "source": [
    "### Questions\n",
    "\n",
    "1) Explain the concept of top-down design and how it was utilized in this activity. What do you think of this problem solving approach? Did it make this activity easier or harder?\n",
    "\n",
    "Top-down design in programming is when you write a main procedure that names all the major functions it will need. So in this case, we had the code skeleton that told us each function that we would need to create. It looks at the big picture first. I think that it made solving this activity easier because it broke it up into steps. It forced me to check that each function worked, and since the individual functions themselves weren't that difficult, it made it easier to implement everything as a whole. At the same time, this could all be accomplished in one function. So, while it forced the creator to slow down and take things step by step, it makes it a little more complicated than it necessarily needs to be. So there are definitely pros and cons.\n",
    "\n",
    "2) Add at least 4 entries to the WORD_TO_ICON and demonstrate their translations by showing the output of translate_icons on strings that contain each entry.\n",
    "\n"
   ]
  },
  {
   "cell_type": "code",
   "execution_count": 97,
   "metadata": {
    "collapsed": false
   },
   "outputs": [
    {
     "data": {
      "text/plain": [
       "'you owe me <i class=\"fa fa-dollar\"></i>'"
      ]
     },
     "execution_count": 97,
     "metadata": {},
     "output_type": "execute_result"
    }
   ],
   "source": [
    "translate_icons('you owe me $')"
   ]
  },
  {
   "cell_type": "code",
   "execution_count": 89,
   "metadata": {
    "collapsed": false
   },
   "outputs": [
    {
     "data": {
      "text/plain": [
       "'<i class=\"fa fa-exclamation\"></i>'"
      ]
     },
     "execution_count": 89,
     "metadata": {},
     "output_type": "execute_result"
    }
   ],
   "source": [
    "translate_icons('!')"
   ]
  },
  {
   "cell_type": "code",
   "execution_count": 90,
   "metadata": {
    "collapsed": false
   },
   "outputs": [
    {
     "data": {
      "text/plain": [
       "'it was so <i class=\"fa fa-bomb\"></i>'"
      ]
     },
     "execution_count": 90,
     "metadata": {},
     "output_type": "execute_result"
    }
   ],
   "source": [
    "translate_icons('it was so bomb')"
   ]
  },
  {
   "cell_type": "code",
   "execution_count": 96,
   "metadata": {
    "collapsed": false
   },
   "outputs": [
    {
     "data": {
      "text/plain": [
       "'nah man, that is <i class=\"fa fa-trash-o\"></i>'"
      ]
     },
     "execution_count": 96,
     "metadata": {},
     "output_type": "execute_result"
    }
   ],
   "source": [
    "translate_icons('nah man, that is trash')"
   ]
  },
  {
   "cell_type": "markdown",
   "metadata": {},
   "source": [
    "# Activity 3"
   ]
  },
  {
   "cell_type": "code",
   "execution_count": 79,
   "metadata": {
    "collapsed": false
   },
   "outputs": [
    {
     "data": {
      "text/html": [
       "<u style=\"color:red\">Kailee</u> likes to eat cheese"
      ],
      "text/plain": [
       "<IPython.core.display.HTML object>"
      ]
     },
     "metadata": {},
     "output_type": "display_data"
    }
   ],
   "source": [
    "from IPython.html.widgets.interaction import interact\n",
    "from IPython.display import HTML, display\n",
    "\n",
    "import requests\n",
    "\n",
    "WORDS = requests.get('https://raw.githubusercontent.com/dwyl/english-words/master/words.txt')\n",
    "WORDS_SET = set(WORDS.text.split())\n",
    "\n",
    "\n",
    "def spellcheck(text):\n",
    "    sentence = []\n",
    "    for word in text.split():\n",
    "        if word in WORDS_SET:\n",
    "            sentence.append(word)\n",
    "        else:\n",
    "            new_word = '<u style=\"color:red\">{}</u>' .format(word)\n",
    "            sentence.append(new_word)\n",
    "    display(HTML(' '.join(sentence)))\n",
    "\n",
    "interact(spellcheck, text='')"
   ]
  },
  {
   "cell_type": "markdown",
   "metadata": {},
   "source": [
    "### Questions \n",
    "\n",
    "1) Briefy describe how your spell-checker works and what challenges you faced implementing them. What differences do you see between your implementation of a spell-checker and that which can be found a typical word processing application?\n",
    "\n",
    "My spell-checker uses a large set of words, and then goes through a text from the user and compares each word to see if it is in the set of words. If it is, then it is considered a real word, and if it is not, then I underline it in red using html code. One difference between my spell-checker and that in a typical word processing application is that my set of words cannot be added to. So for instance, I can't say that Kailee is a word and add it to the set, whereas in a typical word processing application I could add Kailee so that it wouldn't underline it as not being a word anymore. Another difference is that my spell-checker does not provide any suggestions on what read word I might have been trying to write.\n",
    "\n",
    "2) Does using a set instead of a list make a difference? Test this by using the %timeit command on a lookup using a list version of WORDS and a set version of WORDS. Which data structure is more efficient? Can you feel the difference when you are using the spell-checker interactively? Explain.\n",
    "\n",
    "Using a set seems to be more efficient. When I use the list it takes longer for the %timeit command to run. This is because a set uses a hashtable, so you can check for things really quickly compared to a list which does not use a hashtable. Also, sets have only unique values so if there are multiples, it only keeps it in the set once, making it even more efficient. When I type the words interactively, it seems quicker with the set."
   ]
  },
  {
   "cell_type": "code",
   "execution_count": 98,
   "metadata": {
    "collapsed": false
   },
   "outputs": [
    {
     "name": "stdout",
     "output_type": "stream",
     "text": [
      "The slowest run took 25.87 times longer than the fastest. This could mean that an intermediate result is being cached.\n",
      "1000000 loops, best of 3: 276 ns per loop\n"
     ]
    }
   ],
   "source": [
    "%timeit 'monkey' in WORDS_SET"
   ]
  },
  {
   "cell_type": "code",
   "execution_count": 99,
   "metadata": {
    "collapsed": false
   },
   "outputs": [
    {
     "data": {
      "text/html": [
       "<u style=\"color:red\">Kailee</u> likes to eat cheese"
      ],
      "text/plain": [
       "<IPython.core.display.HTML object>"
      ]
     },
     "metadata": {},
     "output_type": "display_data"
    }
   ],
   "source": [
    "WORDS = requests.get('https://raw.githubusercontent.com/dwyl/english-words/master/words.txt')\n",
    "WORDS_LIST = list(WORDS.text.split())\n",
    "\n",
    "\n",
    "def spellcheck(text):\n",
    "    sentence = []\n",
    "    for word in text.split():\n",
    "        if word in realwords:\n",
    "            sentence.append(word)\n",
    "        else:\n",
    "            new_word = '<u style=\"color:red\">{}</u>' .format(word)\n",
    "            sentence.append(new_word)\n",
    "    display(HTML(' '.join(sentence)))\n",
    "\n",
    "interact(spellcheck, text='')"
   ]
  },
  {
   "cell_type": "code",
   "execution_count": 100,
   "metadata": {
    "collapsed": false
   },
   "outputs": [
    {
     "name": "stdout",
     "output_type": "stream",
     "text": [
      "10 loops, best of 3: 16.8 ms per loop\n"
     ]
    }
   ],
   "source": [
    "%timeit 'monkey' in WORDS_LIST"
   ]
  }
 ],
 "metadata": {
  "anaconda-cloud": {},
  "kernelspec": {
   "display_name": "Python [Root]",
   "language": "python",
   "name": "Python [Root]"
  },
  "language_info": {
   "codemirror_mode": {
    "name": "ipython",
    "version": 2
   },
   "file_extension": ".py",
   "mimetype": "text/x-python",
   "name": "python",
   "nbconvert_exporter": "python",
   "pygments_lexer": "ipython2",
   "version": "2.7.12"
  }
 },
 "nbformat": 4,
 "nbformat_minor": 0
}
