{
 "cells": [
  {
   "cell_type": "markdown",
   "metadata": {},
   "source": [
    "# Activity 1: Projectile Motion"
   ]
  },
  {
   "cell_type": "code",
   "execution_count": 79,
   "metadata": {
    "collapsed": false
   },
   "outputs": [
    {
     "name": "stdout",
     "output_type": "stream",
     "text": [
      "What is the initial velocity? 20\n",
      "What is the angle in degrees? 50\n",
      "Given an initial velocity of 20.0 m/s and an angle of 50.0 degrees\n",
      "The time of flight is 3.13 s\n",
      "The maximum height reached is 11.98 m\n",
      "The horizontal range is 40.20 m\n"
     ]
    }
   ],
   "source": [
    "import math\n",
    "initial_velocity = float(raw_input('What is the initial velocity? '))\n",
    "angle = float(raw_input('What is the angle in degrees? '))\n",
    "print'Given an initial velocity of {:.1f} m/s and an angle of {:.1f} degrees' .format(initial_velocity, angle)\n",
    "time_of_flight = (2 * initial_velocity * (math.sin(math.radians(angle)))) / 9.8\n",
    "maximum_height_reached = ((initial_velocity ** 2) * ((math.sin(math.radians(angle)) ** 2))) / (2 * 9.8)\n",
    "horizontal_range = ((initial_velocity ** 2) * ((math.sin(math.radians(2 * angle))))) / 9.80\n",
    "print'The time of flight is {:.2f} s' .format(time_of_flight)\n",
    "print'The maximum height reached is {:.2f} m' .format(maximum_height_reached)\n",
    "print'The horizontal range is {:.2f} m' .format(horizontal_range)"
   ]
  },
  {
   "cell_type": "markdown",
   "metadata": {},
   "source": [
    "### Questions\n",
    "\n",
    "1) Did you use ints or floats to represent your data? Does it make a difference? Why?\n",
    "\n",
    "I used floats to represent my data because floats include decimal points such as 3.13 whereas ints are whole numbers. So in order to fulfill the requirement of having two decimal points with each calculated answer, I needed to use floats. So, yes it does make a difference because of the fact that ints only will be whole numbers.\n",
    "\n",
    "\n",
    "2) What happens if a user enters in non-numerical input or nothing at all? Why does this happen?\n",
    "\n",
    "If the user enters non-numerical input or nothing at all a ValueError appears saying that string could not be converted to float. This is because float is only for numbers and non-numerical input or nothing at all is not a number so it cannot be converted into a number value which means that then the rest of the code which uses that float value to calculate the time of flight and other calculations, cannot be executed."
   ]
  },
  {
   "cell_type": "markdown",
   "metadata": {},
   "source": [
    "# Activity 2: Library Book Shelf"
   ]
  },
  {
   "cell_type": "code",
   "execution_count": 80,
   "metadata": {
    "collapsed": false
   },
   "outputs": [
    {
     "name": "stdout",
     "output_type": "stream",
     "text": [
      "What is the shelf number? 6\n",
      "Shelf 6 is unit 1 in row 1\n"
     ]
    }
   ],
   "source": [
    "shelf_number = int(raw_input('What is the shelf number? '))\n",
    "row          = int(shelf_number / 5)\n",
    "unit         = int(shelf_number % 5)\n",
    "\n",
    "print 'Shelf {} is unit {} in row {}' .format(shelf_number, unit, row)"
   ]
  },
  {
   "cell_type": "markdown",
   "metadata": {},
   "source": [
    "### Questions\n",
    "\n",
    "1) Explain what the modulus operator computes and how you used it in your program.\n",
    "\n",
    "The modulus operator computes the remainder after dividing one number by another. For example: 27 % 16 = 11 because 16 only goes into 27 once and the remainder is 11. In my program I used this operation to determine the remainder when the shelf number is divided by 5. This remainder is the unit that the shelf is in.\n",
    "\n",
    "\n",
    "2) Copy your code into a new cell and then modify it so that it correctly identifies the shelf row and unit given a shelf number in the layout below:"
   ]
  },
  {
   "cell_type": "code",
   "execution_count": 72,
   "metadata": {
    "collapsed": false
   },
   "outputs": [
    {
     "name": "stdout",
     "output_type": "stream",
     "text": [
      "What is the shelf number? 6\n",
      "Shelf 6 is unit 1 and row 2\n"
     ]
    }
   ],
   "source": [
    "shelf_number = int(raw_input('What is the shelf number? '))\n",
    "row          = int(((shelf_number - 1) / 5) + 1)\n",
    "unit         = int(((shelf_number - 1) % 5) + 1)\n",
    "\n",
    "print 'Shelf {} is unit {} and row {}' .format(shelf_number, unit, row)"
   ]
  },
  {
   "cell_type": "markdown",
   "metadata": {},
   "source": [
    "# Activity 3: Shapes"
   ]
  },
  {
   "cell_type": "code",
   "execution_count": 73,
   "metadata": {
    "collapsed": false
   },
   "outputs": [
    {
     "name": "stdout",
     "output_type": "stream",
     "text": [
      "What is the x coordinate? 0\n",
      "What is the y coordinate? 0\n",
      "What is the width? 75\n",
      "What is the height? 75\n",
      "What is the color? green\n"
     ]
    },
    {
     "data": {
      "text/html": [
       "\n",
       "<svg height=\"100\" width=\"100\">\n",
       "  <rect x=0 y=0 width=75 height=75 fill=green />\n",
       "</svg>\n"
      ],
      "text/plain": [
       "<IPython.core.display.HTML object>"
      ]
     },
     "metadata": {},
     "output_type": "display_data"
    }
   ],
   "source": [
    "from IPython.display import HTML, display\n",
    "x      = int(raw_input('What is the x coordinate? '))\n",
    "y      = int(raw_input('What is the y coordinate? '))\n",
    "width  = int(raw_input('What is the width? '))\n",
    "height = int(raw_input('What is the height? '))\n",
    "color  = raw_input('What is the color? ')\n",
    "html   = '''\n",
    "<svg height=\"100\" width=\"100\">\n",
    "  <rect x={} y={} width={} height={} fill={} />\n",
    "</svg>\n",
    "''' .format(x, y, width, height, color)\n",
    "display(HTML(html))"
   ]
  },
  {
   "cell_type": "markdown",
   "metadata": {},
   "source": [
    "### Questions\n",
    "\n",
    "1) Explain how you constructed the SVG code and then used it to show the shape.\n",
    "\n",
    "I constructed the SVG (Scalable Vector Graphics) code by importing HTML and then enclosing the shape commands in a <svg> tag. This tag generated a canvas for the shape, and within the tag I was able to use .format to use the values I had previously asked the user for to create the shape.\n",
    "\n",
    "\n",
    "2) Copy your code into a new cell and then modify it so that it draws a circle instead:"
   ]
  },
  {
   "cell_type": "code",
   "execution_count": 81,
   "metadata": {
    "collapsed": false
   },
   "outputs": [
    {
     "name": "stdout",
     "output_type": "stream",
     "text": [
      "What is the circle x coordinate? 50\n",
      "What is the circle y coordinate? 50\n",
      "What is the radius? 40\n",
      "What is the outline color? black\n",
      "What is the outline thickness? 3\n",
      "What is the color? red\n"
     ]
    },
    {
     "data": {
      "text/html": [
       "\n",
       "<svg height=\"100\" width=\"100\">\n",
       "  <circle cx=50 cy=50 r=40 stroke=black stroke-width=3 fill=red />\n",
       "</svg>\n"
      ],
      "text/plain": [
       "<IPython.core.display.HTML object>"
      ]
     },
     "metadata": {},
     "output_type": "display_data"
    }
   ],
   "source": [
    "from IPython.display import HTML, display\n",
    "cx            = int(raw_input('What is the circle x coordinate? '))\n",
    "cy            = int(raw_input('What is the circle y coordinate? '))\n",
    "radius        = int(raw_input('What is the radius? '))\n",
    "outline       = raw_input('What is the outline color? ')\n",
    "outline_width = int(raw_input('What is the outline thickness? '))\n",
    "color         = raw_input('What is the color? ')\n",
    "html   = '''\n",
    "<svg height=\"100\" width=\"100\">\n",
    "  <circle cx={} cy={} r={} stroke={} stroke-width={} fill={} />\n",
    "</svg>\n",
    "''' .format(cx, cy, radius, outline, outline_width, color)\n",
    "display(HTML(html))"
   ]
  }
 ],
 "metadata": {
  "anaconda-cloud": {},
  "kernelspec": {
   "display_name": "Python [Root]",
   "language": "python",
   "name": "Python [Root]"
  },
  "language_info": {
   "codemirror_mode": {
    "name": "ipython",
    "version": 2
   },
   "file_extension": ".py",
   "mimetype": "text/x-python",
   "name": "python",
   "nbconvert_exporter": "python",
   "pygments_lexer": "ipython2",
   "version": "2.7.12"
  }
 },
 "nbformat": 4,
 "nbformat_minor": 0
}
