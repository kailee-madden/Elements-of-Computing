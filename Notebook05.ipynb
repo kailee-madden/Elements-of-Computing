{
 "cells": [
  {
   "cell_type": "markdown",
   "metadata": {},
   "source": [
    "# Activity 1"
   ]
  },
  {
   "cell_type": "code",
   "execution_count": 74,
   "metadata": {
    "collapsed": false
   },
   "outputs": [],
   "source": [
    "def has_duplicates(lst):\n",
    "    ''' Returns whether or not list contains duplicates. '''\n",
    "    for index, item in enumerate(lst):\n",
    "        n = index + 1\n",
    "        i = item\n",
    "        while n < len(lst):\n",
    "            if i == lst[n]:\n",
    "                return True\n",
    "            n += 1\n",
    "    return False\n",
    "        "
   ]
  },
  {
   "cell_type": "code",
   "execution_count": 76,
   "metadata": {
    "collapsed": false
   },
   "outputs": [
    {
     "data": {
      "text/plain": [
       "True"
      ]
     },
     "execution_count": 76,
     "metadata": {},
     "output_type": "execute_result"
    }
   ],
   "source": [
    "has_duplicates([1, 1])"
   ]
  },
  {
   "cell_type": "code",
   "execution_count": 77,
   "metadata": {
    "collapsed": false
   },
   "outputs": [
    {
     "data": {
      "text/plain": [
       "False"
      ]
     },
     "execution_count": 77,
     "metadata": {},
     "output_type": "execute_result"
    }
   ],
   "source": [
    "has_duplicates([0, 1])"
   ]
  },
  {
   "cell_type": "markdown",
   "metadata": {
    "collapsed": true
   },
   "source": [
    "1) Briefy describe how your function works and what challenges you faced implementing it. In particular, discuss:\n",
    "\n",
    "    Which approach did you chose?\n",
    "    \n",
    "    I used a nested loop. So I used a for loop to run through all the values in the list, and within that for loop I had a while loop that ran compared the value picked from the list from the for loop with all the other values within the list. The while loop ran until the index + 1 was no longer less than the length of the list. \n",
    "\n",
    "    How did you detect if there is a duplicate in the list?\n",
    "    \n",
    "    To detect if there were duplicates, I used a conditional statement within my nested loop that asked if the item from the list I had picked was equal to another item in the list, and then it kept running through the loop and checking it with all the other items in the list. In order to not check it against itself, I started checking the item with the item above it and ran the loop until I had reached the end of the list. This works since the upper items don't need to be rechecked against the lower ones since the lower ones already ran their checks.\n",
    "\n",
    "2) Demonstrate your has_duplicates function by writing a loop that checks each of the following lists and outputs '\"{test}\" has duplicates!' if the list has duplicates, otherwise '\"{test} does not have duplicates!'."
   ]
  },
  {
   "cell_type": "code",
   "execution_count": 78,
   "metadata": {
    "collapsed": false
   },
   "outputs": [
    {
     "name": "stdout",
     "output_type": "stream",
     "text": [
      "[] does not have duplicates!\n",
      "[0] does not have duplicates!\n",
      "[0, 0] has duplicates!\n",
      "[0, 1, 2, 3, 4] does not have duplicates!\n",
      "[0, 1, 0, 3, 4] has duplicates!\n",
      "[0, 1, 2, 4, 4] has duplicates!\n"
     ]
    }
   ],
   "source": [
    "tests = [\n",
    "  [],\n",
    "  [0],\n",
    "  [0, 0],\n",
    "  [0, 1, 2, 3, 4],\n",
    "  [0, 1, 0, 3, 4],\n",
    "  [0, 1, 2, 4, 4],\n",
    "]\n",
    "for lst in tests:\n",
    "    if has_duplicates(lst):\n",
    "        print '{} has duplicates!' .format(lst)\n",
    "    else:\n",
    "        print '{} does not have duplicates!' .format(lst)"
   ]
  },
  {
   "cell_type": "markdown",
   "metadata": {},
   "source": [
    "# Activity 2"
   ]
  },
  {
   "cell_type": "code",
   "execution_count": 51,
   "metadata": {
    "collapsed": false
   },
   "outputs": [],
   "source": [
    "def is_palindrome(s, case_sensitive=False):\n",
    "    ''' Returns whether or not a string is a palindrome '''\n",
    "    s = ''.join(e for e in s if e.isalnum())\n",
    "    if case_sensitive == False:\n",
    "        s = s.lower()\n",
    "    n = 1\n",
    "    t = []\n",
    "    while n <= len(s):\n",
    "        t.append(s[-n])\n",
    "        n += 1\n",
    "    delimiter = ''\n",
    "    if delimiter.join(t) == s:\n",
    "        return True\n",
    "    return False\n",
    "        "
   ]
  },
  {
   "cell_type": "code",
   "execution_count": 111,
   "metadata": {
    "collapsed": false
   },
   "outputs": [
    {
     "data": {
      "text/plain": [
       "False"
      ]
     },
     "execution_count": 111,
     "metadata": {},
     "output_type": "execute_result"
    }
   ],
   "source": [
    "is_palindrome('Taco cat', True)"
   ]
  },
  {
   "cell_type": "markdown",
   "metadata": {},
   "source": [
    "1) Briefy describe how your function works and what challenges you faced implementing it. In particular, discuss:\n",
    "\n",
    "    How does the case_sensitive argument affect your function?\n",
    "    \n",
    "    Basically, if we care about the case then the first conditional statement will fail and the function will not make the string all lowercase meaning that it will pick up on when the case does not match.\n",
    "\n",
    "    How did you handle whitespace and punctuation?\n",
    "    \n",
    "    To handle punctuation and whitespace I used isalnum which can eliminate all punctuation and whitespace. This way I didn't have to list off a bunch of punctuation.\n",
    "\n",
    "    How did you test if the string was a palindrome?\n",
    "    \n",
    "    To test if the string was a palindrome, I put each letter into a list and made the first letter from the string the last letter in the list. And then I made the list into a string and compared the two strings to see if they matched.\n",
    "\n",
    "2) Demonstrate your is_palindrome function by writing a loop that checks each of the following phrases and outputs '\"{phrase}\" is a palindrome!' if the phrase is a palindrome, otherwise '\"{phrase} is not a palindrome!'."
   ]
  },
  {
   "cell_type": "code",
   "execution_count": 53,
   "metadata": {
    "collapsed": false
   },
   "outputs": [
    {
     "name": "stdout",
     "output_type": "stream",
     "text": [
      "\"Taco cat\" is a palindrome!\n",
      "\"Race car\" is a palindrome!\n",
      "\"Not a palindrome\" is not a palindrome\n",
      "\"Never odd or even\" is a palindrome!\n",
      "\"Bob\" is a palindrome!\n",
      "\"Be calm\" is not a palindrome\n",
      "\"Eva, Can I Stab Bats In A Cave?\" is a palindrome!\n",
      "\"Mr. Owl Ate My Metal Worm\" is a palindrome!\n",
      "\"Was It A Rat I Saw?\" is a palindrome!\n",
      "\"C'est La Vie\" is not a palindrome\n"
     ]
    }
   ],
   "source": [
    "phrases = [\n",
    "    'Taco cat',\n",
    "    'Race car',\n",
    "    'Not a palindrome',\n",
    "    'Never odd or even',\n",
    "    'Bob',\n",
    "    'Be calm',\n",
    "    'Eva, Can I Stab Bats In A Cave?',\n",
    "    'Mr. Owl Ate My Metal Worm',\n",
    "    'Was It A Rat I Saw?',\n",
    "    \"C'est La Vie\"\n",
    "]\n",
    "for phrase in phrases:\n",
    "    if is_palindrome(phrase):\n",
    "        print '\"{}\" is a palindrome!' .format(phrase)\n",
    "    else:\n",
    "        print '\"{}\" is not a palindrome' .format(phrase)"
   ]
  },
  {
   "cell_type": "markdown",
   "metadata": {},
   "source": [
    "# Activity 3"
   ]
  },
  {
   "cell_type": "code",
   "execution_count": 44,
   "metadata": {
    "collapsed": false
   },
   "outputs": [],
   "source": [
    "def process_madlib(template):\n",
    "    ''' Return completed Mad Libs template string '''\n",
    "    madlib = []\n",
    "    for word in template.split():\n",
    "        if word.startswith('|'):\n",
    "            end  = word.index('|', 2)\n",
    "            ask  = word[1:end]\n",
    "            new_word = str(raw_input('Please enter {} ' .format(ask)))\n",
    "            word = word.replace('|{}|' .format(ask), new_word)\n",
    "            if word == '':\n",
    "                return 'Please restart and enter an actual word instead of nothing'\n",
    "        madlib.append(word)\n",
    "    return ' '.join(madlib)"
   ]
  },
  {
   "cell_type": "code",
   "execution_count": 49,
   "metadata": {
    "collapsed": false
   },
   "outputs": [
    {
     "name": "stdout",
     "output_type": "stream",
     "text": [
      "Please enter name \n",
      "Please enter adjective \n"
     ]
    },
    {
     "data": {
      "text/plain": [
       "'Please restart and enter an actual word instead of nothing'"
      ]
     },
     "execution_count": 49,
     "metadata": {},
     "output_type": "execute_result"
    }
   ],
   "source": [
    "process_madlib('Hello |name|! This a very |adjective| Mad Libs generator!')"
   ]
  },
  {
   "cell_type": "markdown",
   "metadata": {},
   "source": [
    "1) Briefy describe how your function works and what challenges you faced implementing it. In particular, discuss:\n",
    "\n",
    "    How did you determine if a word need to be replaced?\n",
    "    \n",
    "    I used a conditional statement and checked if the word started with |. If it did, then the conditional statement ran and enabled me to replace the word.\n",
    "\n",
    "    How did you extract the DESCRIPTION from the placeholder?\n",
    "    \n",
    "    In order to extract the description, I found the closing | using word.index, and then used the splicing ability of strings to extract only the inside of between the beginning | and the end |.\n",
    "\n",
    "    How did you handle if the user entered in nothing for a replacement?\n",
    "    \n",
    "    If the user enters nothing for a replacement I have a conditional statement that checks and then returns a statement asking the user to restart and enter an actual word. By using return I keep the rest of the function from executing.\n",
    "\n",
    "    How did you substitude the placeholder with the replacment?\n",
    "    \n",
    "    To substitute the placeholder with the replacement I used word.replace. In this function I replaced the part of the word that included the brackets | and whatever was contained within them, but left any punction that might be on the outside.\n",
    "\n",
    "    How did you construct the completed Mad Libs template?\n",
    "    \n",
    "    I created a list at the beginning of my function, and in the loop I continually added all my words to that list, both words that were replaced and those that weren't. Then at the end I made this list into a string using .join and then returned that as the Mad Libs value.\n",
    "    \n",
    "2) Write your own Mad Libs template and use your function to generate a story!"
   ]
  },
  {
   "cell_type": "code",
   "execution_count": 47,
   "metadata": {
    "collapsed": false
   },
   "outputs": [
    {
     "name": "stdout",
     "output_type": "stream",
     "text": [
      "Please enter adjective saucy\n",
      "Please enter mammal frog\n",
      "Please enter name Fred\n",
      "Please enter sport basketball\n",
      "Please enter food apples\n",
      "Please enter emotion emotionless\n"
     ]
    },
    {
     "data": {
      "text/plain": [
       "'In a saucy house there lived a frog named Fred who loved to play basketball and to eat. But one day all of his favorite food, apples, ran out. He was incredibly emotionless.'"
      ]
     },
     "execution_count": 47,
     "metadata": {},
     "output_type": "execute_result"
    }
   ],
   "source": [
    "process_madlib('In a |adjective| house there lived a |mammal| named |name| who loved to play |sport| and to eat. But one day all of his favorite food, |food|, ran out. He was incredibly |emotion|.')"
   ]
  }
 ],
 "metadata": {
  "anaconda-cloud": {},
  "kernelspec": {
   "display_name": "Python [Root]",
   "language": "python",
   "name": "Python [Root]"
  },
  "language_info": {
   "codemirror_mode": {
    "name": "ipython",
    "version": 2
   },
   "file_extension": ".py",
   "mimetype": "text/x-python",
   "name": "python",
   "nbconvert_exporter": "python",
   "pygments_lexer": "ipython2",
   "version": "2.7.12"
  }
 },
 "nbformat": 4,
 "nbformat_minor": 0
}
