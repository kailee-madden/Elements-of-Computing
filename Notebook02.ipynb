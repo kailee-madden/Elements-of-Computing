{
 "cells": [
  {
   "cell_type": "markdown",
   "metadata": {},
   "source": [
    "# Activity 1: Magic 8-Ball"
   ]
  },
  {
   "cell_type": "code",
   "execution_count": 1,
   "metadata": {
    "collapsed": false
   },
   "outputs": [
    {
     "name": "stdout",
     "output_type": "stream",
     "text": [
      "What is your question? Will ND win on Saturday?\n",
      "You may rely on it\n"
     ]
    }
   ],
   "source": [
    "import random\n",
    "\n",
    "q    = raw_input('What is your question? ')\n",
    "tuple = ('It is certain', 'It is decidedly so', 'Without a doubt', 'Yes, definitely', 'You may rely on it', 'As I see it, yes', 'Most likely', 'Outlook good', 'Yes', 'Signs point to yes', 'Reply hazy try again later', 'Ask again later', 'Better not tell you now', 'Cannot predict now', 'Concentrate and ask again', 'Don\\'t count on it', 'My reply is no', 'My sources say no', 'Outlook not so good', 'Very doubtful')\n",
    "\n",
    "print(random.choice(tuple))"
   ]
  },
  {
   "cell_type": "markdown",
   "metadata": {},
   "source": [
    "### Questions\n",
    "\n",
    "1) Did you use a **data structure** in your program? If so, which one and why? Could you have used another one instead (which one)?\n",
    "\n",
    "I used a tuple because I knew that I would not be changing the values in the data structure. However, I could have just as easily used a list and then I would have the option to append it and add in or take away values that I want the Magic 8-Ball to print as answers.\n",
    "\n",
    "2) Is your Magic 8-Ball positive, negative, or neutral? If you wanted to make an overly pessimistic or negative Magic 8-Ball, what could you do to accomplish that without removing any positive or neutral answers?\n",
    "\n",
    "Since I used a tuple, I cannot append to add more negative answers, but I could always go back in and make it a list or simply just type in the negative answers into the original program. Another alternative that doesn't involve adding any more answers is to use random.randint. Then since the negative answers are toward the end of the tuple, I can simply exclude some of the beginning answers by saying a range toward the end of the group of answers such as random.randint(7, 19) instead of using random.choice. And then I will use that random integer to determine what answer from my tuple to print. So I would take the random integer, say 13, tuple[13], and whatever that cooresponds to is the answer that I would have print. This way it would be more likely for it to be a negative answer, because I could create a range that simply excludes some of the positive answers as possibilities."
   ]
  },
  {
   "cell_type": "markdown",
   "metadata": {},
   "source": [
    "# Activity 2: Stadium Seating"
   ]
  },
  {
   "cell_type": "code",
   "execution_count": 16,
   "metadata": {
    "collapsed": false
   },
   "outputs": [
    {
     "name": "stdout",
     "output_type": "stream",
     "text": [
      "What is your Section Number? 7\n",
      "You should enter Gate A for Section 7\n"
     ]
    }
   ],
   "source": [
    "A  = [1, 2, 3, 4, 5, 6, 7, 8, 9, 101, 102, 103, 104, 105, 106, 107, 108, 109]\n",
    "B  = [10, 11, 12, 13, 14, 15, 16, 17, 18, 110, 111, 112, 113, 114, 115, 116, 117, 118]\n",
    "D  = [19, 20, 21, 22, 23, 24, 25, 26, 27, 119, 120, 121, 122, 123, 124, 125, 126, 127]\n",
    "E  = [28, 29, 30, 31, 32, 33, 34, 35, 36, 128, 129, 130, 131, 132, 133, 134, 135, 136]\n",
    "\n",
    "s  = int(raw_input('What is your Section Number? '))\n",
    "\n",
    "if s in A:\n",
    "    print 'You should enter Gate A for Section {}' .format(s)\n",
    "elif s in B:\n",
    "    print 'You should enter Gate B for Section {}' .format(s)\n",
    "elif s in D:\n",
    "    print 'You should enter Gate D for Section {}' .format(s)\n",
    "elif s in E:\n",
    "    print 'You should enter Gate E for Section {}' .format(s)\n",
    "else:\n",
    "    print 'I\\'m sorry but there isn\\'t a Section {}' .format(s)"
   ]
  },
  {
   "cell_type": "markdown",
   "metadata": {},
   "source": [
    "### Questions\n",
    "\n",
    "1) Describe the control flow of your program. Did you use **alternative execution**, **chained conditionals**, or **nested conditionals**?\n",
    "\n",
    "I used chained conditionals. I wanted the program to check each list to see if the section number was present and then to print if it was, and otherwise continue onto the next direction. \n",
    "\n",
    "2) Re-implement your program using the **in** operator and a few data structures. If your program is already implemented in this fashion, then re-implement it to not use **in** or any data structures. Which version do you prefer and why?\n",
    "\n",
    "I definitely prefer using the **in** operator and data structures, because to me it seems less messy and more organized. I also think it could more easily be edited or reapplied to a different scenario without as much worry about whether something is going to get messed up and cause an error, because it easier see and read."
   ]
  },
  {
   "cell_type": "code",
   "execution_count": 17,
   "metadata": {
    "collapsed": false
   },
   "outputs": [
    {
     "name": "stdout",
     "output_type": "stream",
     "text": [
      "What is your Section Number? 7\n",
      "You should enter Gate A for Section 7\n"
     ]
    }
   ],
   "source": [
    "s = int(raw_input('What is your Section Number? '))\n",
    "\n",
    "if s == 1 or 2 or 3 or 4 or 5 or 6 or 7 or 8 or 9 or 101 or 102 or 103 or 104 or 105 or 106 or 107 or 108 or 109:\n",
    "    print 'You should enter Gate A for Section {}' .format(s)\n",
    "elif s == 10 or 11 or 12 or 13 or 14 or 15 or 16 or 17 or 18 or 110 or 111 or 112 or 113 or 114 or 115 or 116 or 117 or 118:\n",
    "    print 'You should enter Gate B for Section {}' .format(s)\n",
    "elif s == 19 or 20 or 21 or 22 or 23 or 24 or 25 or 26 or 27 or 119 or 120 or 121 or 122 or 123 or 124 or 125 or 126 or 127:\n",
    "    print 'You should enter Gate D for Section {}' .format(s)\n",
    "elif s == 28 or 29 or 30 or 31 or 32 or 33 or 34 or 35 or 36 or 128 or 129 or 130 or 131 or 132 or 133 or 134 or 135 or 136:\n",
    "    print 'You should enter Gate E for Section {}' .format(s)\n",
    "else:\n",
    "    print 'I\\'m sorry but there isn\\'t a Section {}' .format(s)"
   ]
  },
  {
   "cell_type": "markdown",
   "metadata": {},
   "source": [
    "# Activity 3: Fizz, Buzz, Boom"
   ]
  },
  {
   "cell_type": "code",
   "execution_count": 21,
   "metadata": {
    "collapsed": false
   },
   "outputs": [
    {
     "name": "stdout",
     "output_type": "stream",
     "text": [
      "1\n",
      "2\n",
      "Fizz\n",
      "4\n",
      "Buzz\n",
      "Fizz\n",
      "Boom\n",
      "8\n",
      "Fizz\n",
      "Buzz\n",
      "11\n",
      "Fizz\n",
      "13\n",
      "Boom\n",
      "FizzBuzz\n",
      "16\n",
      "17\n",
      "Fizz\n",
      "19\n",
      "Buzz\n",
      "Boom\n",
      "22\n",
      "23\n",
      "Fizz\n",
      "Buzz\n",
      "26\n",
      "Fizz\n",
      "Boom\n",
      "29\n",
      "FizzBuzz\n",
      "31\n",
      "32\n",
      "Fizz\n",
      "34\n",
      "Boom\n",
      "Fizz\n",
      "37\n",
      "38\n",
      "Fizz\n",
      "Buzz\n",
      "41\n",
      "Boom\n",
      "43\n",
      "44\n",
      "FizzBuzz\n",
      "46\n",
      "47\n",
      "Fizz\n",
      "Boom\n",
      "Buzz\n",
      "Fizz\n",
      "52\n",
      "53\n",
      "Fizz\n",
      "Buzz\n",
      "Boom\n",
      "Fizz\n",
      "58\n",
      "59\n",
      "FizzBuzz\n",
      "61\n",
      "62\n",
      "Boom\n",
      "64\n",
      "Buzz\n",
      "Fizz\n",
      "67\n",
      "68\n",
      "Fizz\n",
      "Boom\n",
      "71\n",
      "Fizz\n",
      "73\n",
      "74\n",
      "FizzBuzz\n",
      "76\n",
      "Boom\n",
      "Fizz\n",
      "79\n",
      "Buzz\n",
      "Fizz\n",
      "82\n",
      "83\n",
      "Boom\n",
      "Buzz\n",
      "86\n",
      "Fizz\n",
      "88\n",
      "89\n",
      "FizzBuzz\n",
      "Boom\n",
      "92\n",
      "Fizz\n",
      "94\n",
      "Buzz\n",
      "Fizz\n",
      "97\n",
      "Boom\n",
      "Fizz\n",
      "Buzz\n"
     ]
    }
   ],
   "source": [
    "for numbers in range(1, 101):\n",
    "    if numbers % 7 == 0:\n",
    "        print 'Boom'\n",
    "    elif numbers % 3 == 0 and numbers % 5 == 0:\n",
    "        print 'FizzBuzz'\n",
    "    elif numbers % 3 == 0:\n",
    "        print 'Fizz'\n",
    "    elif numbers % 5 == 0:\n",
    "        print 'Buzz'\n",
    "    else:\n",
    "        print numbers"
   ]
  },
  {
   "cell_type": "markdown",
   "metadata": {},
   "source": [
    "### Questions\n",
    "\n",
    "1) Describe the control flow of your program. Did you use **alternative execution**, **chained conditionals**, or **nested conditionals**?\n",
    "\n",
    "I used chained conditionals again because that is what I have been using in general and I think it makes the program easy to read and follow, but also executes it effectively and efficiently.\n",
    "\n",
    "2) Why do you think this question often trips up canidates interviewing for programming positions? What was the hardest part for you?\n",
    "\n",
    "I guess maybe this trips people up because what you tell us as the last instructions, Boom and FizzBuzz, should actually be first, because if Fizz and Buzz go first then FizzBuzz will never occur because the first condition will be satisfied so the program won't execute the next part of the conditional statement, the same goes for using Boom, because Boom is supposed to be printed regardless of any of the other rules. For me, this was actually easier than the other activities for this assignment, my one worry was I wasn't entirely sure how to get the entire list to print, but I just guessed that I could just say numbers and it worked out. Once I knew that was right, the rest of it seemed pretty intuitive using the **chained conditionals** and making sure that the commands were in the correct order. "
   ]
  }
 ],
 "metadata": {
  "anaconda-cloud": {},
  "kernelspec": {
   "display_name": "Python [Root]",
   "language": "python",
   "name": "Python [Root]"
  },
  "language_info": {
   "codemirror_mode": {
    "name": "ipython",
    "version": 2
   },
   "file_extension": ".py",
   "mimetype": "text/x-python",
   "name": "python",
   "nbconvert_exporter": "python",
   "pygments_lexer": "ipython2",
   "version": "2.7.12"
  }
 },
 "nbformat": 4,
 "nbformat_minor": 0
}
